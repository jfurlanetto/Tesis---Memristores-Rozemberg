{
 "cells": [
  {
   "cell_type": "code",
   "execution_count": 1,
   "id": "90e80406-33c7-4981-a85d-30d4fd932602",
   "metadata": {},
   "outputs": [],
   "source": [
    "import numpy as np\n",
    "import matplotlib.pyplot as plt              #For analysis and plotting\n",
    "import sys\n",
    "\n",
    "import PySpice\n",
    "import PySpice.Logging.Logging as Logging\n",
    "from PySpice.Spice.Netlist import Circuit    #For creating circuits\n",
    "from PySpice.Unit import *                   #For adding units\n",
    "\n",
    "logger = Logging.setup_logging()"
   ]
  },
  {
   "cell_type": "code",
   "execution_count": 2,
   "id": "1a5843a3-ea30-4fb6-b264-be82bacb5a80",
   "metadata": {},
   "outputs": [],
   "source": [
    "#Functions\n",
    "def format_output(analysis):\n",
    "    sim_res_dict = {} #create dictionary\n",
    "    for node in analysis.nodes.values():\n",
    "        data_label = \"%s\" % str(node) #extract node name\n",
    "        sim_res_dict[data_label] = np.array(node)\n",
    "    return(sim_res_dict)"
   ]
  },
  {
   "cell_type": "code",
   "execution_count": 3,
   "id": "bd9ee768-6726-4336-a4fc-10bbbe1699c7",
   "metadata": {},
   "outputs": [],
   "source": [
    "def funcion_pyspice(Matriz1, V_total, rho_res, Nc, Mf):\n",
    "    N_res =((Nc*(Mf-1))+(Mf*(Nc-1)))\n",
    "    Nnodos = (Nc*Mf)\n",
    "    \n",
    "    circuit = Circuit('Red_mem')\n",
    "    circuit.V('Fuente', 1, circuit.gnd, V_total@u_V)       #Fuente, llamada 'Fuente', conectada al nodo_1 y a gnd(0), con un valor de 10V\n",
    "\n",
    "    #En la definicion del Netlist se puede cambiar la posicion de GND\n",
    "    for i in range(0, N_res):\n",
    "        if (i==(N_res-Nc)):\n",
    "            circuit.R(Matriz1[i][0], Matriz1[i][1], circuit.gnd,   rho_res[i]@u_kΩ)\n",
    "        elif (i==(N_res-1)):\n",
    "            circuit.R(Matriz1[i][0], Matriz1[i][1], circuit.gnd,   rho_res[i]@u_kΩ)\n",
    "        else:\n",
    "            circuit.R(Matriz1[i][0], Matriz1[i][1], Matriz1[i][2], rho_res[i]@u_kΩ)\n",
    "    \n",
    "    #print('Circuit Netlist', circuit)\n",
    "    #print(Matriz1)\n",
    "    \n",
    "    simulator = circuit.simulator()   \n",
    "    analysis = simulator.operating_point()\n",
    "    resultados = format_output(analysis)           #Le damos formato a los resultados\n",
    "    resultados[str(Nnodos)] = np.array([0.])       #Le agrego el nodo GND (el ultimo) que por algun motivo no aparece dentro de los resultados\n",
    "    #print(resultados)\n",
    "    #print(' ')\n",
    "\n",
    "    #for i in range(1, Nnodos+1):\n",
    "        #print('Nodo '+str(i), resultados[str(i)])   #Tension en cada nodo\n",
    "    #print(' ')\n",
    "\n",
    "    deltav=list(range(0, N_res))\n",
    "    for i in range(0, N_res):\n",
    "        deltav[(i)]= (float(resultados[str(Matriz1[i][1])]))-(float(resultados[str(Matriz1[i][2])]))  \n",
    "\n",
    "    return(deltav)"
   ]
  }
 ],
 "metadata": {
  "kernelspec": {
   "display_name": "Python 3 (ipykernel)",
   "language": "python",
   "name": "python3"
  },
  "language_info": {
   "codemirror_mode": {
    "name": "ipython",
    "version": 3
   },
   "file_extension": ".py",
   "mimetype": "text/x-python",
   "name": "python",
   "nbconvert_exporter": "python",
   "pygments_lexer": "ipython3",
   "version": "3.10.9"
  }
 },
 "nbformat": 4,
 "nbformat_minor": 5
}
