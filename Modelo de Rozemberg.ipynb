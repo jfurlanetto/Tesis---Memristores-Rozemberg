{
 "cells": [
  {
   "cell_type": "markdown",
   "id": "7909b33b-c5fd-4eeb-88c4-45b2e0e737ed",
   "metadata": {},
   "source": [
    "# Modelo de Rozemberg 02/04/22"
   ]
  },
  {
   "cell_type": "markdown",
   "id": "c2a2fe57",
   "metadata": {
    "tags": []
   },
   "source": [
    "### Comienzo del programa\n",
    "***\n",
    "Se importan las librerías de las funciones a utilizar durante el programa:"
   ]
  },
  {
   "cell_type": "code",
   "execution_count": 7,
   "id": "9fd67bf3",
   "metadata": {},
   "outputs": [],
   "source": [
    "import numpy as np\n",
    "import matplotlib.pyplot as plt"
   ]
  },
  {
   "cell_type": "markdown",
   "id": "90024a79",
   "metadata": {
    "tags": []
   },
   "source": [
    "### Parametros iniciales del programa\n",
    "***\n",
    "Se definen los valores y datos a utilizar para el desarrollo del problema. Donde se tiene:\n",
    "\n",
    "* **_n_**   : tamaño total de la muestra (bines)\n",
    "* **_nc_**  : tamaño de la zona de los contactos\n",
    "* **_di(i)_**   : densidad en el sitio i\n",
    "* **_rho(i)_**  : resistividad en el sitio i\n",
    "* **_delta(i)_**: cambio de densidad del sitio i\n",
    "* **_vb(i)_**: movilidad de cada sitio i\n",
    "* **_v(i)_** : potencial de cada sitio i\n",
    "* **_vtotal, i_total_**: potencial total y corriente\n"
   ]
  },
  {
   "cell_type": "code",
   "execution_count": 61,
   "id": "d85cafee-65ae-479b-b93c-3cc76a7a650c",
   "metadata": {},
   "outputs": [],
   "source": [
    "###Definicion de mis variabales en Python\n",
    "cant_bines= 100                #Parametro para variar ext de las listas\n",
    "n = list(range(0,cant_bines))  #Listado de tamaño total de la muestra\n",
    "vb= list(range(0,cant_bines))  #Listado - movilidad de cada sitio i\n",
    "\n",
    "Vba=16                         #Parametros - movilidad en extremos\n",
    "Vbb=14\n",
    "#width=0\n",
    "\n",
    "nc1= 10                        #Parametro - tamaño del extremo 1\n",
    "nc2= 10                        #Parametro - tamaño del extremo 2\n",
    "#Otras variables las defino a medida que las requiero --> ordenar"
   ]
  },
  {
   "cell_type": "code",
   "execution_count": null,
   "id": "f5650aba",
   "metadata": {},
   "outputs": [],
   "source": [
    "### Referencia Variables Fortran\n",
    "'''\n",
    "!--- Parametros iniciales del programa\n",
    "!---   n   = tamanyo total de la muestra\n",
    "!---   nb  = tamanyo de la zona de los contactos \n",
    "!---   npr = indices de impresion\n",
    "!---   epsil = numero chiquito para comparacion con cero\n",
    "       integer n, nb, npr\n",
    "       double precision epsil\n",
    "       parameter (n=99, nb= 10, npr=1, epsil=1.d-06)\n",
    "!--- di(i)   : densidad en el sitio i\n",
    "!--- rho(i)  : resistividad en el sitio i\n",
    "!--- delta(i): cambio de densidad del sitio i\n",
    "       double precision di(0:n+1),rho(0:n+1),delta(n)\n",
    "       double precision deltap(n),deltam(n)\n",
    "       double precision piip1(n),piim1(n),pim1i(n),pip1i(n)\n",
    "!--- vb(i): movilidad de cada sitio i\n",
    "!--- v(i) : potencial de cada sitio i\n",
    "!--- vtotal, i_total: potencial total y corriente\n",
    "       double precision v(0:n+1),vb(0:n+1),vtotal,i_total\n",
    "       double precision dtot,rhotot,rhoizq,rhoder\n",
    "       double precision dvisum,dvi,dvim1,dvip1\n",
    "       double precision Vba,Vbb,v0,xm\n",
    "       double precision fac_izq,fac_cent,fac_der,width\n",
    "       integer nt\n",
    "       integer i\n",
    "       integer tau,it,ntp,nper\n",
    "!--- Archivos con diversas salidas\n",
    "       open (61, file = \"d_i.dat\")\n",
    "       open (62, file = \"rho_i.dat\")\n",
    "       open (63, file = \"r_inic.dat\")\n",
    "       open (64, file = \"rhotot.dat\")\n",
    "       open (65, file = \"rhoizq.dat\")\n",
    "       open (66, file = \"rhoder.dat\")\n",
    "       open (67, file = \"i_v.dat\")\n",
    "'''"
   ]
  },
  {
   "cell_type": "markdown",
   "id": "9fd45cf3",
   "metadata": {},
   "source": [
    "### Parametros de movilidad de los contactos\n",
    "***\n",
    "* Vba y Vbb: parametros de movilidad de los contactos (Vba) y del volumen (Vbb)\n",
    "* En este caso Vba=/=Vbb\n",
    "* El perfil de vb(i) puede ser suave o abrupto (si width==0)\n",
    "      "
   ]
  },
  {
   "cell_type": "code",
   "execution_count": 62,
   "id": "27e2d8f2",
   "metadata": {},
   "outputs": [
    {
     "data": {
      "text/plain": [
       "Text(0.5, 1.0, 'Parametros de movilidad de los contactos')"
      ]
     },
     "execution_count": 62,
     "metadata": {},
     "output_type": "execute_result"
    },
    {
     "data": {
      "image/png": "[encoded data removed]",
      "text/plain": [
       "<Figure size 432x288 with 1 Axes>"
      ]
     },
     "metadata": {
      "needs_background": "light"
     },
     "output_type": "display_data"
    }
   ],
   "source": [
    "for i in n:\n",
    "    if i <= nc1:\n",
    "        vb[i]=Vba\n",
    "    elif i >=len(n)-nc2:   #obtengo long de la lista n\n",
    "        vb[i]=Vba\n",
    "    else:\n",
    "        vb[i]=Vbb\n",
    "#print(n)\n",
    "\n",
    "plt.plot(n, vb)\n",
    "plt.legend('Parametros de movilidad de los contactos')\n",
    "plt.xlabel('n[i]')\n",
    "plt.ylabel('Vb[i]')\n",
    "plt.title('Parametros de movilidad de los contactos')"
   ]
  },
  {
   "cell_type": "markdown",
   "id": "33033499-2985-4cd1-89ae-1d04a78542bf",
   "metadata": {},
   "source": [
    "\n",
    "### Parametros que definen las rampas de potencial\n",
    "***"
   ]
  },
  {
   "cell_type": "code",
   "execution_count": 16,
   "id": "97285c85-67d0-47f7-8ce6-3828d6e3d2f8",
   "metadata": {},
   "outputs": [
    {
     "data": {
      "text/plain": [
       "' \\n!---  tau : longitud de cada ciclo\\n!---  v0  : altura maxima de la rampa\\n!---  nper: numero de ciclos\\n       read(5,*) tau,v0,nper\\n!--- La resistividad de cada sitio se define como R(i)=fac(i)*di(i)\\n!---  fac_* son las constantes en cada sector de la muestra\\n!---  width es el ancho de transicion entre una zona y otra\\n!---        es util para hacer el cambio de resistividad mas suave\\n       read(5,*) fac_izq,fac_cent,fac_der,width'"
      ]
     },
     "execution_count": 16,
     "metadata": {},
     "output_type": "execute_result"
    }
   ],
   "source": [
    "PENDIENTE\n",
    "''' \n",
    "tau=  #longitud de cada ciclo\n",
    "v0=   #altura maxima de la rampa\n",
    "nper= #numero de ciclos\n",
    "\n",
    "       xm=4.d0*v0/tau\n",
    "       nt=0\n",
    "       do ntp=1,nper\n",
    "         if(mod(ntp,npr)==0 ) then\n",
    "           write (64,'(a20)') ' '\n",
    "           write (65,'(a20)') ' '\n",
    "           write (66,'(a20)') ' '\n",
    "           write (67,'(a20)') ' '\n",
    "         endif\n",
    "         do it=1,tau\n",
    "           nt=nt+1\n",
    "           if(it.le.tau/4) then\n",
    "             vtotal= xm*it\n",
    "           elseif( (it.gt.tau/4) .and. (it.lt.tau*3/4) ) then\n",
    "             vtotal= 2.d0*v0-xm*it\n",
    "           else\n",
    "             vtotal= -4.d0*v0+xm*it\n",
    "           endif\n",
    "\n",
    "#La resistividad de cada sitio se define como R(i)=fac(i)*di(i)\n",
    "#fac son las constantes en cada sector de la muestra\n",
    "#width es el ancho de transicion entre una zona y otra, es util para hacer el cambio de resistividad mas suave\n",
    "\n",
    "fac_izq=\n",
    "fac_cent=\n",
    "fac_der=\n",
    "width="
   ]
  },
  {
   "cell_type": "markdown",
   "id": "f0ea16d7-d216-4eaf-9b96-051db97edecb",
   "metadata": {},
   "source": [
    "### Densidad de vacancias inicial y total\n",
    "***\n",
    "* La densidad de vacancias iniciales se setean en cero\n",
    "* La densidad de vacancias total sera la sumatoria de todas las vacancias locales"
   ]
  },
  {
   "cell_type": "code",
   "execution_count": 59,
   "id": "200b3f64-757d-411e-8acc-a4a200b0fb0e",
   "metadata": {},
   "outputs": [],
   "source": [
    "di= list(range(0,cant_bines)) \n",
    "\n",
    "#Densidad de vacancias inicial --> 0\n",
    "for i in n:\n",
    "    di[i]=0\n",
    "    \n",
    "\n",
    "#plt.plot(n, di)\n",
    "#plt.legend('Densidad de vacancias inicial')\n",
    "#plt.xlabel('n[i]')\n",
    "#plt.ylabel('di[i]')\n",
    "#plt.title('Densidad de vacancias inicial')\n",
    "\n",
    "#Densidad de vacancias total\n",
    "dtot=0\n",
    "for i in n:\n",
    "    dtot+=di[i]"
   ]
  },
  {
   "cell_type": "markdown",
   "id": "5df31c7a-6756-4d77-a28a-d0ea0c056322",
   "metadata": {
    "tags": []
   },
   "source": [
    "### Resistividad local\n",
    "***\n",
    "Se determina la resistividad local inicial  \n",
    "\n",
    "*Fact* son constantes en cada sector de la muestra  \n",
    "La resistividad de cada sitio se define como   \n",
    "                R(i)=fac(i)*di(i)"
   ]
  },
  {
   "cell_type": "code",
   "execution_count": 63,
   "id": "baf02bb9-1860-4bc9-b239-dcd592e06cf4",
   "metadata": {},
   "outputs": [],
   "source": [
    "\n",
    "fac_izq = 10\n",
    "fac_der = 10\n",
    "fac_cent= 5\n",
    "\n",
    "for i in n:\n",
    "    if i <= nc1:\n",
    "        rho[i]=fac_izq*di[i]\n",
    "    elif i >=len(n)-nc2:\n",
    "        rho[i]=fac_der*di[i]\n",
    "    else:\n",
    "        rho[i]=fac_cent*di[i]\n",
    "\n",
    "        '''do i=1,n\n",
    "             if(width > 0) then \n",
    "               rho(i)=(fac_cent)+\n",
    "     .    (fac_izq-fac_cent)/(1.d0+dexp((dble(i)-nb)/width))+\n",
    "     .    (fac_der-fac_cent)/(1.d0+dexp((dble(n)-dble(i)-(nb-1))/width))\n",
    "             else\n",
    "               if( i.lt.(nb+1)) then\n",
    "                 rho(i)=(fac_izq)\n",
    "               elseif( i.gt.(n-nb)) then\n",
    "                 rho(i)=(fac_der)\n",
    "               else\n",
    "                 rho(i)=(fac_cent)\n",
    "               endif\n",
    "             endif\n",
    "             if(nt.eq.1) write(63,'(i5,f12.6)') i,rho(i)\n",
    "             rho(i)=rho(i)*di(i)\n",
    "           enddo'''"
   ]
  },
  {
   "cell_type": "markdown",
   "id": "fbae06ca-9350-4e90-a707-7e3eafd6889f",
   "metadata": {
    "tags": []
   },
   "source": [
    "### Resistividades totales\n",
    "***\n",
    "Se determina la resistividad total a izquierda y a derecha"
   ]
  },
  {
   "cell_type": "code",
   "execution_count": 64,
   "id": "4706528a-e8d7-45dd-a3f8-ed7f994aa133",
   "metadata": {
    "tags": []
   },
   "outputs": [],
   "source": [
    "rhotot=0 ##Resistencia total\n",
    "rhoizq=0 ##Resistencia izquierda\n",
    "rhoder=0 ##Resistencia derecha\n",
    "\n",
    "rho= list(range(0,100))\n",
    "          \n",
    "for i in n:\n",
    "    rhotot= rhotot+rho[i]\n",
    "    if i <= nc1+1:\n",
    "        rhoizq = rhoizq + rho[i]\n",
    "    if i>=len(n)-nc2:\n",
    "        rhoder = rhoder + rho[i]\n"
   ]
  },
  {
   "cell_type": "markdown",
   "id": "24d8c7e3-507d-4508-990f-8ad17ec11ba6",
   "metadata": {},
   "source": [
    "### Resistencias y corriente total\n",
    "***\n",
    "\n"
   ]
  },
  {
   "cell_type": "code",
   "execution_count": null,
   "id": "180418a4-ba41-414b-9ae1-2bd0e2fa1b98",
   "metadata": {},
   "outputs": [],
   "source": [
    "##Impresion de resistencias y corriente total\n",
    "i_total= vtotal/rhotot  ##Corriente total\n",
    "vtotal= ##DE DONDE SALE??\n",
    "\n",
    "           '''if(mod(ntp,npr)==0 ) then\n",
    "             i_total=vtotal/rhotot\n",
    "             write (64,'(6f18.6)') vtotal,rhotot\n",
    "             write (65,'(6f18.6)') vtotal,rhoizq\n",
    "             write (66,'(6f18.6)') vtotal,rhoder\n",
    "             write (67,'(6f18.6)') vtotal,i_total,rhotot,rhoizq,rhoder\n",
    "           endif\n",
    "             \n",
    "           dvisum=0.d0\n",
    "           do i=1,n\n",
    "             dvi= vtotal*rho(i)/rhotot\n",
    "             dvisum=dvi+dvisum\n",
    "             v(i)=vtotal-dvisum\n",
    "           enddo\n",
    "\n",
    "           v(0)=vtotal\n",
    "           v(n+1)=0.d0'''"
   ]
  },
  {
   "cell_type": "markdown",
   "id": "822227fd-63a9-422b-ad8d-9f976fe572bc",
   "metadata": {
    "tags": []
   },
   "source": [
    "### Calculo de las probabilidades de transicion entre sitios\n",
    "***\n"
   ]
  },
  {
   "cell_type": "code",
   "execution_count": 39,
   "id": "7fdaaa1c-ae15-4b7b-9282-5560c6eff435",
   "metadata": {},
   "outputs": [
    {
     "ename": "NameError",
     "evalue": "name 'rho' is not defined",
     "output_type": "error",
     "traceback": [
      "\u001b[1;31m---------------------------------------------------------------------------\u001b[0m",
      "\u001b[1;31mNameError\u001b[0m                                 Traceback (most recent call last)",
      "\u001b[1;32m~\\AppData\\Local\\Temp/ipykernel_6644/4134438235.py\u001b[0m in \u001b[0;36m<module>\u001b[1;34m\u001b[0m\n\u001b[0;32m     13\u001b[0m \u001b[1;33m\u001b[0m\u001b[0m\n\u001b[0;32m     14\u001b[0m \u001b[1;32mfor\u001b[0m \u001b[0mi\u001b[0m \u001b[1;32min\u001b[0m \u001b[0mn\u001b[0m\u001b[1;33m:\u001b[0m\u001b[1;33m\u001b[0m\u001b[1;33m\u001b[0m\u001b[0m\n\u001b[1;32m---> 15\u001b[1;33m     \u001b[0mdvi\u001b[0m\u001b[1;33m=\u001b[0m \u001b[0mvtotal\u001b[0m\u001b[1;33m*\u001b[0m \u001b[0mrho\u001b[0m\u001b[1;33m[\u001b[0m\u001b[0mi\u001b[0m\u001b[1;33m]\u001b[0m\u001b[1;33m/\u001b[0m\u001b[0mrhotot\u001b[0m\u001b[1;33m\u001b[0m\u001b[1;33m\u001b[0m\u001b[0m\n\u001b[0m\u001b[0;32m     16\u001b[0m     \u001b[0mdvim1\u001b[0m\u001b[1;33m=\u001b[0m \u001b[0mvtotal\u001b[0m\u001b[1;33m*\u001b[0m \u001b[0mrho\u001b[0m\u001b[1;33m[\u001b[0m\u001b[0mi\u001b[0m\u001b[1;33m-\u001b[0m\u001b[1;36m1\u001b[0m\u001b[1;33m]\u001b[0m\u001b[1;33m/\u001b[0m\u001b[0mrhotot\u001b[0m\u001b[1;33m\u001b[0m\u001b[1;33m\u001b[0m\u001b[0m\n\u001b[0;32m     17\u001b[0m     \u001b[0mdvip1\u001b[0m\u001b[1;33m=\u001b[0m \u001b[0mvtotal\u001b[0m\u001b[1;33m*\u001b[0m \u001b[0mrho\u001b[0m\u001b[1;33m[\u001b[0m\u001b[0mi\u001b[0m\u001b[1;33m+\u001b[0m\u001b[1;36m1\u001b[0m\u001b[1;33m]\u001b[0m\u001b[1;33m/\u001b[0m\u001b[0mrhotot\u001b[0m\u001b[1;33m\u001b[0m\u001b[1;33m\u001b[0m\u001b[0m\n",
      "\u001b[1;31mNameError\u001b[0m: name 'rho' is not defined"
     ]
    }
   ],
   "source": [
    "##Calculo de las probabilidades de transicion entre sitios\n",
    "\n",
    "delta= list(range(0,100))\n",
    "piip1= list(range(0,100))\n",
    "pip1i= list(range(0,100))\n",
    "piim1= list(range(0,100))\n",
    "pim1i= list(range(0,100))\n",
    "\n",
    "vtotal=0\n",
    "\n",
    "for i in n:\n",
    "    delta[i]=0\n",
    "\n",
    "for i in n:\n",
    "    dvi= vtotal* rho[i]/rhotot\n",
    "    dvim1= vtotal* rho[i-1]/rhotot\n",
    "    dvip1= vtotal* rho[i+1]/rhotot\n",
    "    piip1[i]= di[i]  *(1.- di[i+1])* exp(-vb[i]  +dvi/2  )\n",
    "    pip1i[i]= di[i+1]*(1.-di[i])   * exp(-vb[i+1]-dvip1/2)\n",
    "    piim1[i]= di[i]  *(1.- di[i-1])* exp(-vb[i]  -dvi/2  )\n",
    "    pim1i[i]= di[i-1]*(1.-di[i])   * exp(-vb[i-1]+dvim1/2)\n",
    "\n",
    "##Se anulan migraciones desde y hacia los electrodos\n",
    "\n",
    "    pim1i[0]=0\n",
    "    piim1[0]=0\n",
    "    piip1[100]=0\n",
    "    pip1i[100]=0\n",
    "    \n",
    "''' !--- Se calcula la variacion en densidad en cada sitio\n",
    "!---   delta(i)= pim1i(i)+pip1i(i) - (piip1(i)+piim1(i))\n",
    "!--- se tienen en cuenta los limites de migracion: 0 y 1\n",
    "!--- (no seria trascendente para los niveles manejados: 1.d-4)\n",
    "             deltap(i)  = piip1(i)-pip1i(i)\n",
    "             deltam(i)  = piim1(i)-pim1i(i)\n",
    "             if(deltap(i).gt.0.d0) then\n",
    "                deltap(i)= min(deltap(i),di(i),1.d0-di(i+1))\n",
    "             else\n",
    "                deltap(i)=-min(-deltap(i),di(i+1),1.d0-di(i))\n",
    "             endif\n",
    "             if(deltam(i).gt.0.d0) then\n",
    "                deltam(i)= min(deltam(i),di(i),1.d0-di(i-1))\n",
    "             else\n",
    "                deltam(i)=-min(-deltam(i),di(i-1),1.d0-di(i))\n",
    "             endif\n",
    "             delta(i)=deltap(i)+deltam(i)\n",
    "           enddo\n",
    " '''\n",
    "##Se actualiza la densidad local de vacancias, di(i)\n",
    "for i in n:\n",
    "    di[i]=di[i]-delta[i]"
   ]
  },
  {
   "cell_type": "code",
   "execution_count": null,
   "id": "2cc340b9-2be3-480a-867c-cb73d78743ce",
   "metadata": {},
   "outputs": [],
   "source": []
  }
 ],
 "metadata": {
  "kernelspec": {
   "display_name": "Python 3 (ipykernel)",
   "language": "python",
   "name": "python3"
  },
  "language_info": {
   "codemirror_mode": {
    "name": "ipython",
    "version": 3
   },
   "file_extension": ".py",
   "mimetype": "text/x-python",
   "name": "python",
   "nbconvert_exporter": "python",
   "pygments_lexer": "ipython3",
   "version": "3.9.8"
  }
 },
 "nbformat": 4,
 "nbformat_minor": 5
}
